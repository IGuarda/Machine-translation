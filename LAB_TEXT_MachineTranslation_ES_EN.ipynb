{
 "cells": [
  {
   "cell_type": "markdown",
   "metadata": {},
   "source": [
    "# Traductor Español-Inglés Machine translation\n",
    "### Ignacio Díaz-Guardamino"
   ]
  },
  {
   "cell_type": "code",
   "execution_count": 1,
   "metadata": {},
   "outputs": [
    {
     "name": "stderr",
     "output_type": "stream",
     "text": [
      "Using TensorFlow backend.\n",
      "D:\\ProgramData\\Anaconda3\\lib\\site-packages\\tensorflow\\python\\framework\\dtypes.py:526: FutureWarning: Passing (type, 1) or '1type' as a synonym of type is deprecated; in a future version of numpy, it will be understood as (type, (1,)) / '(1,)type'.\n",
      "  _np_qint8 = np.dtype([(\"qint8\", np.int8, 1)])\n",
      "D:\\ProgramData\\Anaconda3\\lib\\site-packages\\tensorflow\\python\\framework\\dtypes.py:527: FutureWarning: Passing (type, 1) or '1type' as a synonym of type is deprecated; in a future version of numpy, it will be understood as (type, (1,)) / '(1,)type'.\n",
      "  _np_quint8 = np.dtype([(\"quint8\", np.uint8, 1)])\n",
      "D:\\ProgramData\\Anaconda3\\lib\\site-packages\\tensorflow\\python\\framework\\dtypes.py:528: FutureWarning: Passing (type, 1) or '1type' as a synonym of type is deprecated; in a future version of numpy, it will be understood as (type, (1,)) / '(1,)type'.\n",
      "  _np_qint16 = np.dtype([(\"qint16\", np.int16, 1)])\n",
      "D:\\ProgramData\\Anaconda3\\lib\\site-packages\\tensorflow\\python\\framework\\dtypes.py:529: FutureWarning: Passing (type, 1) or '1type' as a synonym of type is deprecated; in a future version of numpy, it will be understood as (type, (1,)) / '(1,)type'.\n",
      "  _np_quint16 = np.dtype([(\"quint16\", np.uint16, 1)])\n",
      "D:\\ProgramData\\Anaconda3\\lib\\site-packages\\tensorflow\\python\\framework\\dtypes.py:530: FutureWarning: Passing (type, 1) or '1type' as a synonym of type is deprecated; in a future version of numpy, it will be understood as (type, (1,)) / '(1,)type'.\n",
      "  _np_qint32 = np.dtype([(\"qint32\", np.int32, 1)])\n",
      "D:\\ProgramData\\Anaconda3\\lib\\site-packages\\tensorflow\\python\\framework\\dtypes.py:535: FutureWarning: Passing (type, 1) or '1type' as a synonym of type is deprecated; in a future version of numpy, it will be understood as (type, (1,)) / '(1,)type'.\n",
      "  np_resource = np.dtype([(\"resource\", np.ubyte, 1)])\n",
      "UsageError: Line magic function `%` not found.\n"
     ]
    }
   ],
   "source": [
    "import string\n",
    "import re\n",
    "from numpy import array, argmax, random, take\n",
    "import pandas as pd\n",
    "from keras.models import Sequential\n",
    "from keras.layers import Dense, LSTM, Embedding, Bidirectional, RepeatVector, TimeDistributed\n",
    "from keras.preprocessing.text import Tokenizer\n",
    "from keras.callbacks import ModelCheckpoint\n",
    "from keras.preprocessing.sequence import pad_sequences\n",
    "from keras.models import load_model\n",
    "from keras import optimizers\n",
    "import tensorflow as tf\n",
    "import matplotlib.pyplot as plt\n",
    "% matplotlib inline\n",
    "pd.set_option('display.max_colwidth', 200)"
   ]
  },
  {
   "cell_type": "code",
   "execution_count": 2,
   "metadata": {},
   "outputs": [
    {
     "name": "stdout",
     "output_type": "stream",
     "text": [
      "1.13.2\n"
     ]
    }
   ],
   "source": [
    "print(tf.__version__)"
   ]
  },
  {
   "cell_type": "markdown",
   "metadata": {},
   "source": [
    "### Read Data"
   ]
  },
  {
   "cell_type": "markdown",
   "metadata": {},
   "source": [
    "Our data is a text file of English-German sentence pairs. First we will read the file using the function defined below."
   ]
  },
  {
   "cell_type": "code",
   "execution_count": 3,
   "metadata": {},
   "outputs": [],
   "source": [
    "# function to read raw text file\n",
    "def read_text(filename):\n",
    "    # open the file\n",
    "    file = open(filename, mode='rt', encoding='utf-8')\n",
    "    # read all text\n",
    "    text = file.read()\n",
    "    file.close()\n",
    "    return text"
   ]
  },
  {
   "cell_type": "markdown",
   "metadata": {},
   "source": [
    "Now let's define a function to split the text into English-German pairs separated by '\\n' and then split these pairs into English sentences and German sentences."
   ]
  },
  {
   "cell_type": "code",
   "execution_count": 4,
   "metadata": {},
   "outputs": [],
   "source": [
    "# split a text into sentences\n",
    "def to_lines(text):\n",
    "    sents = text.strip().split('\\n')\n",
    "    sents = [i.split('\\t') for i in sents]\n",
    "    return sents"
   ]
  },
  {
   "cell_type": "markdown",
   "metadata": {},
   "source": [
    "__Download the data from [here.](http://www.manythings.org/anki/deu-eng.zip)__ and extract \"deu.txt\" in your working directory."
   ]
  },
  {
   "cell_type": "code",
   "execution_count": 5,
   "metadata": {},
   "outputs": [],
   "source": [
    "data = read_text(\"spa.txt\")\n",
    "es_eng = to_lines(data)\n",
    "es_eng = array(es_eng)"
   ]
  },
  {
   "cell_type": "markdown",
   "metadata": {},
   "source": [
    "The actual data contains over 150,000 sentence-pairs. However, we will use the first 50,000 sentence pairs only to reduce the training time of the model. You can change this number as per you system computation power."
   ]
  },
  {
   "cell_type": "code",
   "execution_count": 6,
   "metadata": {},
   "outputs": [],
   "source": [
    "es_eng = es_eng[:50000,0:2]"
   ]
  },
  {
   "cell_type": "markdown",
   "metadata": {},
   "source": [
    "### Text Pre-Processing"
   ]
  },
  {
   "cell_type": "markdown",
   "metadata": {},
   "source": [
    "#### Text Cleaning\n",
    "\n",
    "Let's take a look at our data, then we will decide which pre-processing steps to adopt."
   ]
  },
  {
   "cell_type": "code",
   "execution_count": 7,
   "metadata": {
    "scrolled": true
   },
   "outputs": [
    {
     "data": {
      "text/plain": [
       "array([['Go.', 'Ve.'],\n",
       "       ['Go.', 'Vete.'],\n",
       "       ['Go.', 'Vaya.'],\n",
       "       ...,\n",
       "       ['I am waiting for my driver.', 'Estoy esperando a mi chofer.'],\n",
       "       ['I appreciate all your help.', 'Aprecio toda tu ayuda.'],\n",
       "       ['I appreciate your interest.', 'Agradezco tu interés.']],\n",
       "      dtype='<U332')"
      ]
     },
     "execution_count": 7,
     "metadata": {},
     "output_type": "execute_result"
    }
   ],
   "source": [
    "es_eng"
   ]
  },
  {
   "cell_type": "markdown",
   "metadata": {},
   "source": [
    "We will get rid of the punctuation marks, and then convert the text to lower case."
   ]
  },
  {
   "cell_type": "code",
   "execution_count": 8,
   "metadata": {},
   "outputs": [],
   "source": [
    "# Remove punctuation\n",
    "es_eng[:,0] = [s.translate(str.maketrans('', '', string.punctuation)) for s in es_eng[:,0]]\n",
    "es_eng[:,1] = [s.translate(str.maketrans('', '', string.punctuation)).replace('¿', '') for s in es_eng[:,1]]"
   ]
  },
  {
   "cell_type": "code",
   "execution_count": 9,
   "metadata": {},
   "outputs": [
    {
     "data": {
      "text/plain": [
       "array([['Go', 'Ve'],\n",
       "       ['Go', 'Vete'],\n",
       "       ['Go', 'Vaya'],\n",
       "       ...,\n",
       "       ['I am waiting for my driver', 'Estoy esperando a mi chofer'],\n",
       "       ['I appreciate all your help', 'Aprecio toda tu ayuda'],\n",
       "       ['I appreciate your interest', 'Agradezco tu interés']],\n",
       "      dtype='<U332')"
      ]
     },
     "execution_count": 9,
     "metadata": {},
     "output_type": "execute_result"
    }
   ],
   "source": [
    "es_eng"
   ]
  },
  {
   "cell_type": "code",
   "execution_count": 10,
   "metadata": {
    "scrolled": true
   },
   "outputs": [],
   "source": [
    "# convert to lowercase\n",
    "for i in range(len(es_eng)):\n",
    "    es_eng[i,0] = es_eng[i,0].lower()\n",
    "    \n",
    "    es_eng[i,1] = es_eng[i,1].lower()"
   ]
  },
  {
   "cell_type": "code",
   "execution_count": 11,
   "metadata": {},
   "outputs": [
    {
     "data": {
      "text/plain": [
       "array([['go', 've'],\n",
       "       ['go', 'vete'],\n",
       "       ['go', 'vaya'],\n",
       "       ...,\n",
       "       ['i am waiting for my driver', 'estoy esperando a mi chofer'],\n",
       "       ['i appreciate all your help', 'aprecio toda tu ayuda'],\n",
       "       ['i appreciate your interest', 'agradezco tu interés']],\n",
       "      dtype='<U332')"
      ]
     },
     "execution_count": 11,
     "metadata": {},
     "output_type": "execute_result"
    }
   ],
   "source": [
    "es_eng"
   ]
  },
  {
   "cell_type": "markdown",
   "metadata": {},
   "source": [
    "#### Text to Sequence Conversion\n",
    "\n",
    "To feed our data in a Seq2Seq model, we will have to convert both the input and the output sentences into integer sequences of fixed length. Before that, let's visualise the length of the sentences. We will capture the lengths of all the sentences in two separate lists for English and German, respectively."
   ]
  },
  {
   "cell_type": "code",
   "execution_count": 12,
   "metadata": {},
   "outputs": [],
   "source": [
    "# empty lists\n",
    "eng_l = []\n",
    "es_l = []\n",
    "\n",
    "# populate the lists with sentence lengths\n",
    "for i in es_eng[:,0]:\n",
    "    eng_l.append(len(i.split()))\n",
    "\n",
    "for i in es_eng[:,1]:\n",
    "    es_l.append(len(i.split()))"
   ]
  },
  {
   "cell_type": "code",
   "execution_count": 13,
   "metadata": {},
   "outputs": [
    {
     "name": "stdout",
     "output_type": "stream",
     "text": [
      "       eng  es\n",
      "0        1   1\n",
      "1        1   1\n",
      "2        1   1\n",
      "3        1   1\n",
      "4        1   1\n",
      "...    ...  ..\n",
      "49995    6   5\n",
      "49996    8   6\n",
      "49997    6   5\n",
      "49998    5   4\n",
      "49999    4   3\n",
      "\n",
      "[50000 rows x 2 columns]\n",
      "8\n",
      "12\n"
     ]
    }
   ],
   "source": [
    "length_df = pd.DataFrame({'eng':eng_l, 'es':es_l})\n",
    "print(length_df)\n",
    "print(max(length_df.eng))\n",
    "print(max(length_df.es))"
   ]
  },
  {
   "cell_type": "code",
   "execution_count": 14,
   "metadata": {},
   "outputs": [
    {
     "data": {
      "image/png": "[encoded data removed]",
      "text/plain": [
       "<Figure size 432x288 with 2 Axes>"
      ]
     },
     "metadata": {
      "needs_background": "light"
     },
     "output_type": "display_data"
    }
   ],
   "source": [
    "length_df.hist(bins = 30)\n",
    "plt.show()"
   ]
  },
  {
   "cell_type": "markdown",
   "metadata": {},
   "source": [
    "The maximum length of the German sentences is 11 and that of the English phrases is 8."
   ]
  },
  {
   "cell_type": "markdown",
   "metadata": {},
   "source": [
    "Let's vectorize our text data by using Keras's Tokenizer() class. It will turn our sentences into sequences of integers. Then we will pad those sequences with zeros to make all the sequences of same length."
   ]
  },
  {
   "cell_type": "code",
   "execution_count": 15,
   "metadata": {},
   "outputs": [],
   "source": [
    "# function to build a tokenizer\n",
    "def tokenization(lines):\n",
    "    tokenizer = Tokenizer()\n",
    "    tokenizer.fit_on_texts(lines)\n",
    "    return tokenizer"
   ]
  },
  {
   "cell_type": "code",
   "execution_count": 16,
   "metadata": {},
   "outputs": [
    {
     "name": "stdout",
     "output_type": "stream",
     "text": [
      "English Vocabulary Size: 6942\n"
     ]
    }
   ],
   "source": [
    "# prepare english tokenizer\n",
    "eng_tokenizer = tokenization(es_eng[:, 0])\n",
    "eng_vocab_size = len(eng_tokenizer.word_index) + 1\n",
    "\n",
    "eng_length = 8\n",
    "print('English Vocabulary Size: %d' % eng_vocab_size)"
   ]
  },
  {
   "cell_type": "code",
   "execution_count": 17,
   "metadata": {},
   "outputs": [
    {
     "name": "stdout",
     "output_type": "stream",
     "text": [
      "Spanish Vocabulary Size: 13809\n"
     ]
    }
   ],
   "source": [
    "# prepare Deutch tokenizer\n",
    "es_tokenizer = tokenization(es_eng[:, 1])\n",
    "es_vocab_size = len(es_tokenizer.word_index) + 1\n",
    "\n",
    "es_length = 8\n",
    "print('Spanish Vocabulary Size: %d' % es_vocab_size)"
   ]
  },
  {
   "cell_type": "code",
   "execution_count": 18,
   "metadata": {},
   "outputs": [],
   "source": [
    "#print(es_tokenizer.word_counts)"
   ]
  },
  {
   "cell_type": "markdown",
   "metadata": {},
   "source": [
    "Given below is a function to prepare the sequences. It will also perform sequence padding to a maximum sentence length as mentioned above. "
   ]
  },
  {
   "cell_type": "code",
   "execution_count": 19,
   "metadata": {},
   "outputs": [],
   "source": [
    "# encode and pad sequences\n",
    "def encode_sequences(tokenizer, length, lines):\n",
    "    # integer encode sequences\n",
    "    seq = tokenizer.texts_to_sequences(lines)\n",
    "    # pad sequences with 0 values\n",
    "    seq = pad_sequences(seq, maxlen=length, padding='post')\n",
    "    print(seq)\n",
    "    print(len(seq))\n",
    "    return seq"
   ]
  },
  {
   "cell_type": "code",
   "execution_count": null,
   "metadata": {},
   "outputs": [],
   "source": []
  },
  {
   "cell_type": "markdown",
   "metadata": {},
   "source": [
    "### Model Building"
   ]
  },
  {
   "cell_type": "markdown",
   "metadata": {},
   "source": [
    "We will now split the data into train and test set for model training and evaluation, respectively."
   ]
  },
  {
   "cell_type": "code",
   "execution_count": 20,
   "metadata": {},
   "outputs": [],
   "source": [
    "from sklearn.model_selection import train_test_split\n",
    "train, test = train_test_split(es_eng, test_size=0.2, random_state = 12)"
   ]
  },
  {
   "cell_type": "markdown",
   "metadata": {},
   "source": [
    "It's time to encode the sentences. We will encode German sentences as the input sequences and English sentences as the target sequences. It will be done for both train and test datasets."
   ]
  },
  {
   "cell_type": "code",
   "execution_count": 21,
   "metadata": {},
   "outputs": [
    {
     "name": "stdout",
     "output_type": "stream",
     "text": [
      "[[   1   10 1516 ...    0    0    0]\n",
      " [4710    4    6 ...    0    0    0]\n",
      " [  14 4834    0 ...    0    0    0]\n",
      " ...\n",
      " [  41  189 1606 ...    0    0    0]\n",
      " [  21   12   15 ...    8 1148    0]\n",
      " [   2  233 1420 ...    0    0    0]]\n",
      "40000\n",
      "[[   3  182   10 ...    0    0    0]\n",
      " [   1 1094    6 ...    0    0    0]\n",
      " [  50  101    9 ...    0    0    0]\n",
      " ...\n",
      " [  44  444  432 ...    0    0    0]\n",
      " [  22    4  123 ...  213    0    0]\n",
      " [   1  202 2244 ...    0    0    0]]\n",
      "40000\n"
     ]
    }
   ],
   "source": [
    "# prepare training data\n",
    "trainX = encode_sequences(es_tokenizer, es_length, train[:, 1])\n",
    "trainY = encode_sequences(eng_tokenizer, eng_length, train[:, 0])"
   ]
  },
  {
   "cell_type": "code",
   "execution_count": 22,
   "metadata": {},
   "outputs": [
    {
     "name": "stdout",
     "output_type": "stream",
     "text": [
      "(40000, 8)\n",
      "(40000, 8)\n"
     ]
    }
   ],
   "source": [
    "print(trainX.shape)\n",
    "print(trainY.shape)"
   ]
  },
  {
   "cell_type": "code",
   "execution_count": 23,
   "metadata": {},
   "outputs": [
    {
     "name": "stdout",
     "output_type": "stream",
     "text": [
      "[[  53   41   30 ...    0    0    0]\n",
      " [ 220    4    1 ...    0    0    0]\n",
      " [  72 8386    0 ...    0    0    0]\n",
      " ...\n",
      " [9350  115  934 ...    0    0    0]\n",
      " [ 536   56  574 ...    0    0    0]\n",
      " [   2   33 6577 ...    0    0    0]]\n",
      "10000\n",
      "[[  36   16   40 ...    0    0    0]\n",
      " [   1   37    3 ...    0    0    0]\n",
      " [   2   99 1339 ...    0    0    0]\n",
      " ...\n",
      " [  56 1781   29 ...    0    0    0]\n",
      " [  33    2  217 ...    0    0    0]\n",
      " [   1  867   42 ...    0    0    0]]\n",
      "10000\n"
     ]
    }
   ],
   "source": [
    "# prepare validation data\n",
    "testX = encode_sequences(es_tokenizer, es_length, test[:, 1])\n",
    "testY = encode_sequences(eng_tokenizer, eng_length, test[:, 0])"
   ]
  },
  {
   "cell_type": "code",
   "execution_count": 24,
   "metadata": {},
   "outputs": [
    {
     "name": "stdout",
     "output_type": "stream",
     "text": [
      "(10000, 8)\n",
      "(10000, 8)\n"
     ]
    }
   ],
   "source": [
    "print(testX.shape)\n",
    "print(testY.shape)"
   ]
  },
  {
   "cell_type": "markdown",
   "metadata": {},
   "source": [
    "Now comes the exciting part! Let us define our Seq2Seq model architecture. We are using an Embedding layer and an LSTM layer as our encoder and another LSTM layer followed by a Dense layer as the decoder.  "
   ]
  },
  {
   "cell_type": "code",
   "execution_count": 25,
   "metadata": {},
   "outputs": [],
   "source": [
    "# build NMT model\n",
    "def build_model(in_vocab, out_vocab, in_timesteps, out_timesteps, units):\n",
    "    model = Sequential()\n",
    "    model.add(Embedding(in_vocab, units, input_length=in_timesteps, mask_zero=True))\n",
    "    model.add(LSTM(units))\n",
    "    model.add(RepeatVector(out_timesteps))    \n",
    "    model.add(LSTM(units, return_sequences=True))\n",
    "    model.add(Dense(out_vocab, activation='softmax'))\n",
    "    return model"
   ]
  },
  {
   "cell_type": "markdown",
   "metadata": {},
   "source": [
    "Details about the RepeatVector :  https://campus.datacamp.com/courses/machine-translation-in-python/implementing-an-encoder-decoder-model-with-keras?ex=6"
   ]
  },
  {
   "cell_type": "markdown",
   "metadata": {},
   "source": [
    "We are using RMSprop optimizer in this model as it is usually a good choice for recurrent neural networks."
   ]
  },
  {
   "cell_type": "code",
   "execution_count": 26,
   "metadata": {},
   "outputs": [
    {
     "name": "stdout",
     "output_type": "stream",
     "text": [
      "13809\n",
      "6942\n",
      "8\n",
      "8\n"
     ]
    }
   ],
   "source": [
    "print(es_vocab_size)\n",
    "print(eng_vocab_size)\n",
    "print(es_length)\n",
    "print(eng_length)"
   ]
  },
  {
   "cell_type": "code",
   "execution_count": 27,
   "metadata": {},
   "outputs": [
    {
     "name": "stdout",
     "output_type": "stream",
     "text": [
      "WARNING:tensorflow:From D:\\ProgramData\\Anaconda3\\lib\\site-packages\\tensorflow\\python\\ops\\resource_variable_ops.py:435: colocate_with (from tensorflow.python.framework.ops) is deprecated and will be removed in a future version.\n",
      "Instructions for updating:\n",
      "Colocations handled automatically by placer.\n"
     ]
    }
   ],
   "source": [
    "model = build_model(es_vocab_size, eng_vocab_size, es_length, eng_length, 512)\n",
    "rms = optimizers.RMSprop(lr=0.001)\n",
    "model.compile(optimizer=rms, loss='sparse_categorical_crossentropy')"
   ]
  },
  {
   "cell_type": "markdown",
   "metadata": {},
   "source": [
    "Please note that we have used __'sparse_categorical_crossentropy'__ as the loss function because it allows us to use the target sequence as it is instead of one hot encoded format. One hot encoding the target sequences with such a huge vocabulary might consume our system's entire memory."
   ]
  },
  {
   "cell_type": "markdown",
   "metadata": {},
   "source": [
    "It seems we are all set to start training our model. We will train it for 30 epochs and with a batch size of 512. You may change and play these hyperparameters. We will also be using __ModelCheckpoint()__ to save the best model with lowest validation loss. I personally prefer this method over early stopping."
   ]
  },
  {
   "cell_type": "code",
   "execution_count": 28,
   "metadata": {
    "scrolled": true
   },
   "outputs": [
    {
     "name": "stdout",
     "output_type": "stream",
     "text": [
      "WARNING:tensorflow:From D:\\ProgramData\\Anaconda3\\lib\\site-packages\\tensorflow\\python\\ops\\math_ops.py:3066: to_int32 (from tensorflow.python.ops.math_ops) is deprecated and will be removed in a future version.\n",
      "Instructions for updating:\n",
      "Use tf.cast instead.\n",
      "WARNING:tensorflow:From D:\\ProgramData\\Anaconda3\\lib\\site-packages\\tensorflow\\python\\ops\\math_grad.py:102: div (from tensorflow.python.ops.math_ops) is deprecated and will be removed in a future version.\n",
      "Instructions for updating:\n",
      "Deprecated in favor of operator or tf.math.divide.\n",
      "Train on 64000 samples, validate on 16000 samples\n",
      "Epoch 1/50\n",
      "64000/64000 [==============================] - 460s 7ms/step - loss: 4.6371 - val_loss: 4.3218\n",
      "\n",
      "Epoch 00001: val_loss improved from inf to 4.32182, saving model to model.h2.5-5-20\n",
      "Epoch 2/50\n",
      "64000/64000 [==============================] - 477s 7ms/step - loss: 4.1416 - val_loss: 4.0307\n",
      "\n",
      "Epoch 00002: val_loss improved from 4.32182 to 4.03071, saving model to model.h2.5-5-20\n",
      "Epoch 3/50\n",
      "64000/64000 [==============================] - 464s 7ms/step - loss: 3.9145 - val_loss: 3.8874\n",
      "\n",
      "Epoch 00003: val_loss improved from 4.03071 to 3.88743, saving model to model.h2.5-5-20\n",
      "Epoch 4/50\n",
      "64000/64000 [==============================] - 467s 7ms/step - loss: 3.6800 - val_loss: 3.6338\n",
      "\n",
      "Epoch 00004: val_loss improved from 3.88743 to 3.63378, saving model to model.h2.5-5-20\n",
      "Epoch 5/50\n",
      "64000/64000 [==============================] - 476s 7ms/step - loss: 3.4228 - val_loss: 3.4507\n",
      "\n",
      "Epoch 00005: val_loss improved from 3.63378 to 3.45066, saving model to model.h2.5-5-20\n",
      "Epoch 6/50\n",
      "64000/64000 [==============================] - 479s 7ms/step - loss: 3.1910 - val_loss: 3.2292\n",
      "\n",
      "Epoch 00006: val_loss improved from 3.45066 to 3.22923, saving model to model.h2.5-5-20\n",
      "Epoch 7/50\n",
      "64000/64000 [==============================] - 484s 8ms/step - loss: 2.9719 - val_loss: 3.0868\n",
      "\n",
      "Epoch 00007: val_loss improved from 3.22923 to 3.08683, saving model to model.h2.5-5-20\n",
      "Epoch 8/50\n",
      "64000/64000 [==============================] - 476s 7ms/step - loss: 2.7671 - val_loss: 2.9153\n",
      "\n",
      "Epoch 00008: val_loss improved from 3.08683 to 2.91529, saving model to model.h2.5-5-20\n",
      "Epoch 9/50\n",
      "64000/64000 [==============================] - 474s 7ms/step - loss: 2.5756 - val_loss: 2.7940\n",
      "\n",
      "Epoch 00009: val_loss improved from 2.91529 to 2.79400, saving model to model.h2.5-5-20\n",
      "Epoch 10/50\n",
      "64000/64000 [==============================] - 472s 7ms/step - loss: 2.3954 - val_loss: 2.6749\n",
      "\n",
      "Epoch 00010: val_loss improved from 2.79400 to 2.67491, saving model to model.h2.5-5-20\n",
      "Epoch 11/50\n",
      "64000/64000 [==============================] - 471s 7ms/step - loss: 2.2286 - val_loss: 2.5809\n",
      "\n",
      "Epoch 00011: val_loss improved from 2.67491 to 2.58088, saving model to model.h2.5-5-20\n",
      "Epoch 12/50\n",
      "64000/64000 [==============================] - 468s 7ms/step - loss: 2.0764 - val_loss: 2.4946\n",
      "\n",
      "Epoch 00012: val_loss improved from 2.58088 to 2.49462, saving model to model.h2.5-5-20\n",
      "Epoch 13/50\n",
      "64000/64000 [==============================] - 442s 7ms/step - loss: 1.9343 - val_loss: 2.4419\n",
      "\n",
      "Epoch 00013: val_loss improved from 2.49462 to 2.44187, saving model to model.h2.5-5-20\n",
      "Epoch 14/50\n",
      "64000/64000 [==============================] - 462s 7ms/step - loss: 1.8049 - val_loss: 2.4002\n",
      "\n",
      "Epoch 00014: val_loss improved from 2.44187 to 2.40020, saving model to model.h2.5-5-20\n",
      "Epoch 15/50\n",
      "64000/64000 [==============================] - 466s 7ms/step - loss: 1.6839 - val_loss: 2.3411\n",
      "\n",
      "Epoch 00015: val_loss improved from 2.40020 to 2.34107, saving model to model.h2.5-5-20\n",
      "Epoch 16/50\n",
      "64000/64000 [==============================] - 467s 7ms/step - loss: 1.5709 - val_loss: 2.3324\n",
      "\n",
      "Epoch 00016: val_loss improved from 2.34107 to 2.33236, saving model to model.h2.5-5-20\n",
      "Epoch 17/50\n",
      "64000/64000 [==============================] - 462s 7ms/step - loss: 1.4641 - val_loss: 2.2983\n",
      "\n",
      "Epoch 00017: val_loss improved from 2.33236 to 2.29829, saving model to model.h2.5-5-20\n",
      "Epoch 18/50\n",
      "64000/64000 [==============================] - 466s 7ms/step - loss: 1.3652 - val_loss: 2.2768\n",
      "\n",
      "Epoch 00018: val_loss improved from 2.29829 to 2.27677, saving model to model.h2.5-5-20\n",
      "Epoch 19/50\n",
      "64000/64000 [==============================] - 473s 7ms/step - loss: 1.2734 - val_loss: 2.2415\n",
      "\n",
      "Epoch 00019: val_loss improved from 2.27677 to 2.24154, saving model to model.h2.5-5-20\n",
      "Epoch 20/50\n",
      "64000/64000 [==============================] - 463s 7ms/step - loss: 1.1861 - val_loss: 2.2173\n",
      "\n",
      "Epoch 00020: val_loss improved from 2.24154 to 2.21733, saving model to model.h2.5-5-20\n",
      "Epoch 21/50\n",
      "64000/64000 [==============================] - 456s 7ms/step - loss: 1.1043 - val_loss: 2.2164\n",
      "\n",
      "Epoch 00021: val_loss improved from 2.21733 to 2.21640, saving model to model.h2.5-5-20\n",
      "Epoch 22/50\n",
      "64000/64000 [==============================] - 451s 7ms/step - loss: 1.0260 - val_loss: 2.2063\n",
      "\n",
      "Epoch 00022: val_loss improved from 2.21640 to 2.20627, saving model to model.h2.5-5-20\n",
      "Epoch 23/50\n",
      "64000/64000 [==============================] - 449s 7ms/step - loss: 0.9515 - val_loss: 2.2445\n",
      "\n",
      "Epoch 00023: val_loss did not improve from 2.20627\n",
      "Epoch 24/50\n",
      "64000/64000 [==============================] - 453s 7ms/step - loss: 0.8855 - val_loss: 2.2197\n",
      "\n",
      "Epoch 00024: val_loss did not improve from 2.20627\n",
      "Epoch 25/50\n",
      "64000/64000 [==============================] - 433s 7ms/step - loss: 0.8182 - val_loss: 2.2464\n",
      "\n",
      "Epoch 00025: val_loss did not improve from 2.20627\n",
      "Epoch 26/50\n",
      "64000/64000 [==============================] - 431s 7ms/step - loss: 0.7555 - val_loss: 2.2424\n",
      "\n",
      "Epoch 00026: val_loss did not improve from 2.20627\n",
      "Epoch 27/50\n",
      "64000/64000 [==============================] - 432s 7ms/step - loss: 0.6986 - val_loss: 2.2599\n",
      "\n",
      "Epoch 00027: val_loss did not improve from 2.20627\n",
      "Epoch 28/50\n",
      "64000/64000 [==============================] - 431s 7ms/step - loss: 0.6427 - val_loss: 2.2766\n",
      "\n",
      "Epoch 00028: val_loss did not improve from 2.20627\n",
      "Epoch 29/50\n",
      "64000/64000 [==============================] - 432s 7ms/step - loss: 0.5910 - val_loss: 2.3185\n",
      "\n",
      "Epoch 00029: val_loss did not improve from 2.20627\n",
      "Epoch 30/50\n",
      "64000/64000 [==============================] - 431s 7ms/step - loss: 0.5419 - val_loss: 2.3130\n",
      "\n",
      "Epoch 00030: val_loss did not improve from 2.20627\n",
      "Epoch 31/50\n",
      "64000/64000 [==============================] - 432s 7ms/step - loss: 0.4957 - val_loss: 2.3762\n",
      "\n",
      "Epoch 00031: val_loss did not improve from 2.20627\n",
      "Epoch 32/50\n",
      "64000/64000 [==============================] - 431s 7ms/step - loss: 0.4546 - val_loss: 2.3610\n",
      "\n",
      "Epoch 00032: val_loss did not improve from 2.20627\n",
      "Epoch 33/50\n",
      "64000/64000 [==============================] - 431s 7ms/step - loss: 0.4149 - val_loss: 2.4210\n",
      "\n",
      "Epoch 00033: val_loss did not improve from 2.20627\n",
      "Epoch 34/50\n",
      "64000/64000 [==============================] - 431s 7ms/step - loss: 0.3794 - val_loss: 2.4250\n",
      "\n",
      "Epoch 00034: val_loss did not improve from 2.20627\n",
      "Epoch 35/50\n",
      "64000/64000 [==============================] - 431s 7ms/step - loss: 0.3455 - val_loss: 2.4404\n",
      "\n",
      "Epoch 00035: val_loss did not improve from 2.20627\n",
      "Epoch 36/50\n",
      "64000/64000 [==============================] - 431s 7ms/step - loss: 0.3158 - val_loss: 2.4717\n",
      "\n",
      "Epoch 00036: val_loss did not improve from 2.20627\n",
      "Epoch 37/50\n",
      "64000/64000 [==============================] - 431s 7ms/step - loss: 0.2876 - val_loss: 2.5175\n",
      "\n",
      "Epoch 00037: val_loss did not improve from 2.20627\n",
      "Epoch 38/50\n",
      "64000/64000 [==============================] - 431s 7ms/step - loss: 0.2620 - val_loss: 2.5304\n",
      "\n",
      "Epoch 00038: val_loss did not improve from 2.20627\n",
      "Epoch 39/50\n",
      "64000/64000 [==============================] - 431s 7ms/step - loss: 0.2403 - val_loss: 2.5518\n",
      "\n",
      "Epoch 00039: val_loss did not improve from 2.20627\n",
      "Epoch 40/50\n",
      "64000/64000 [==============================] - 428s 7ms/step - loss: 0.2192 - val_loss: 2.5678\n",
      "\n",
      "Epoch 00040: val_loss did not improve from 2.20627\n",
      "Epoch 41/50\n",
      "64000/64000 [==============================] - 423s 7ms/step - loss: 0.2003 - val_loss: 2.6083\n",
      "\n",
      "Epoch 00041: val_loss did not improve from 2.20627\n",
      "Epoch 42/50\n",
      "64000/64000 [==============================] - 424s 7ms/step - loss: 0.1842 - val_loss: 2.6429\n",
      "\n",
      "Epoch 00042: val_loss did not improve from 2.20627\n",
      "Epoch 43/50\n",
      "64000/64000 [==============================] - 423s 7ms/step - loss: 0.1703 - val_loss: 2.6411\n",
      "\n",
      "Epoch 00043: val_loss did not improve from 2.20627\n",
      "Epoch 44/50\n",
      "64000/64000 [==============================] - 424s 7ms/step - loss: 0.1575 - val_loss: 2.6751\n",
      "\n",
      "Epoch 00044: val_loss did not improve from 2.20627\n",
      "Epoch 45/50\n",
      "64000/64000 [==============================] - 423s 7ms/step - loss: 0.1460 - val_loss: 2.7499\n",
      "\n",
      "Epoch 00045: val_loss did not improve from 2.20627\n",
      "Epoch 46/50\n",
      "64000/64000 [==============================] - 424s 7ms/step - loss: 0.1367 - val_loss: 2.7202\n",
      "\n",
      "Epoch 00046: val_loss did not improve from 2.20627\n",
      "Epoch 47/50\n",
      "64000/64000 [==============================] - 424s 7ms/step - loss: 0.1275 - val_loss: 2.7654\n",
      "\n",
      "Epoch 00047: val_loss did not improve from 2.20627\n",
      "Epoch 48/50\n",
      "64000/64000 [==============================] - 424s 7ms/step - loss: 0.1197 - val_loss: 2.7637\n",
      "\n",
      "Epoch 00048: val_loss did not improve from 2.20627\n",
      "Epoch 49/50\n",
      "64000/64000 [==============================] - 423s 7ms/step - loss: 0.1132 - val_loss: 2.7781\n",
      "\n",
      "Epoch 00049: val_loss did not improve from 2.20627\n",
      "Epoch 50/50\n",
      "64000/64000 [==============================] - 424s 7ms/step - loss: 0.1071 - val_loss: 2.8036\n",
      "\n",
      "Epoch 00050: val_loss did not improve from 2.20627\n"
     ]
    }
   ],
   "source": [
    "filename = 'model.h2.5-5-20'\n",
    "checkpoint = ModelCheckpoint(filename, monitor='val_loss', verbose=1, save_best_only=True, mode='min')\n",
    "\n",
    "history = model.fit(trainX, trainY.reshape(trainY.shape[0], trainY.shape[1], 1), \n",
    "          epochs=50, batch_size=512, \n",
    "          validation_split = 0.2,\n",
    "          callbacks=[checkpoint], verbose=1)\n",
    "#modelo h1:  0.5847 - val_loss: 1.7952\n",
    "#modelo h2:  loss: 0.1071 - val_loss: 2.8036"
   ]
  },
  {
   "cell_type": "markdown",
   "metadata": {},
   "source": [
    "Let's compare the training loss and the validation loss."
   ]
  },
  {
   "cell_type": "code",
   "execution_count": 29,
   "metadata": {},
   "outputs": [
    {
     "data": {
      "image/png": "[encoded data removed]",
      "text/plain": [
       "<Figure size 432x288 with 1 Axes>"
      ]
     },
     "metadata": {
      "needs_background": "light"
     },
     "output_type": "display_data"
    }
   ],
   "source": [
    "plt.plot(history.history['loss'])\n",
    "plt.plot(history.history['val_loss'])\n",
    "plt.legend(['train','validation'])\n",
    "plt.show()"
   ]
  },
  {
   "cell_type": "markdown",
   "metadata": {},
   "source": [
    "### Make Predictions"
   ]
  },
  {
   "cell_type": "markdown",
   "metadata": {},
   "source": [
    "Let's load the saved model to make predictions."
   ]
  },
  {
   "cell_type": "code",
   "execution_count": 28,
   "metadata": {},
   "outputs": [
    {
     "name": "stdout",
     "output_type": "stream",
     "text": [
      "WARNING:tensorflow:From D:\\ProgramData\\Anaconda3\\lib\\site-packages\\tensorflow\\python\\ops\\math_ops.py:3066: to_int32 (from tensorflow.python.ops.math_ops) is deprecated and will be removed in a future version.\n",
      "Instructions for updating:\n",
      "Use tf.cast instead.\n",
      "WARNING:tensorflow:From D:\\ProgramData\\Anaconda3\\lib\\site-packages\\tensorflow\\python\\ops\\math_grad.py:102: div (from tensorflow.python.ops.math_ops) is deprecated and will be removed in a future version.\n",
      "Instructions for updating:\n",
      "Deprecated in favor of operator or tf.math.divide.\n"
     ]
    }
   ],
   "source": [
    "model = load_model('model.h1.4-5-20')\n",
    "preds = model.predict_classes(testX.reshape((testX.shape[0],testX.shape[1])))"
   ]
  },
  {
   "cell_type": "code",
   "execution_count": 29,
   "metadata": {},
   "outputs": [],
   "source": [
    "def get_word(n, tokenizer):\n",
    "    for word, index in tokenizer.word_index.items():\n",
    "        if index == n:\n",
    "            return word\n",
    "    return None"
   ]
  },
  {
   "cell_type": "code",
   "execution_count": 30,
   "metadata": {},
   "outputs": [],
   "source": [
    "# convert predictions into text (English)\n",
    "preds_text = []\n",
    "for i in preds:\n",
    "    temp = []\n",
    "    for j in range(len(i)):\n",
    "        t = get_word(i[j], eng_tokenizer)\n",
    "        if j > 0:\n",
    "            if (t == get_word(i[j-1], eng_tokenizer)) or (t == None):\n",
    "                temp.append('')\n",
    "            else:\n",
    "                temp.append(t)\n",
    "             \n",
    "        else:\n",
    "            if(t == None):\n",
    "                temp.append('')\n",
    "            else:\n",
    "                temp.append(t)            \n",
    "        \n",
    "    preds_text.append(' '.join(temp))"
   ]
  },
  {
   "cell_type": "code",
   "execution_count": 31,
   "metadata": {},
   "outputs": [],
   "source": [
    "pred_df = pd.DataFrame({'ES' : test[:,1], 'actual' : test[:,0], 'predicted' : preds_text})"
   ]
  },
  {
   "cell_type": "code",
   "execution_count": 32,
   "metadata": {},
   "outputs": [],
   "source": [
    "pd.set_option('display.max_colwidth', 200)"
   ]
  },
  {
   "cell_type": "code",
   "execution_count": 33,
   "metadata": {},
   "outputs": [
    {
     "data": {
      "text/html": [
       "<div>\n",
       "<style scoped>\n",
       "    .dataframe tbody tr th:only-of-type {\n",
       "        vertical-align: middle;\n",
       "    }\n",
       "\n",
       "    .dataframe tbody tr th {\n",
       "        vertical-align: top;\n",
       "    }\n",
       "\n",
       "    .dataframe thead th {\n",
       "        text-align: right;\n",
       "    }\n",
       "</style>\n",
       "<table border=\"1\" class=\"dataframe\">\n",
       "  <thead>\n",
       "    <tr style=\"text-align: right;\">\n",
       "      <th></th>\n",
       "      <th>ES</th>\n",
       "      <th>actual</th>\n",
       "      <th>predicted</th>\n",
       "    </tr>\n",
       "  </thead>\n",
       "  <tbody>\n",
       "    <tr>\n",
       "      <th>0</th>\n",
       "      <td>ellos son muy optimistas</td>\n",
       "      <td>they are very cheerful</td>\n",
       "      <td>please about for you</td>\n",
       "    </tr>\n",
       "    <tr>\n",
       "      <th>1</th>\n",
       "      <td>conozco a tom</td>\n",
       "      <td>i know tom</td>\n",
       "      <td>help  tom</td>\n",
       "    </tr>\n",
       "    <tr>\n",
       "      <th>2</th>\n",
       "      <td>puedes negarte</td>\n",
       "      <td>you may refuse</td>\n",
       "      <td>just look a</td>\n",
       "    </tr>\n",
       "    <tr>\n",
       "      <th>3</th>\n",
       "      <td>eso es privado</td>\n",
       "      <td>thats private</td>\n",
       "      <td>its is</td>\n",
       "    </tr>\n",
       "    <tr>\n",
       "      <th>4</th>\n",
       "      <td>tom saltó desde su asiento</td>\n",
       "      <td>tom leaped from his seat</td>\n",
       "      <td>tom should me to you</td>\n",
       "    </tr>\n",
       "    <tr>\n",
       "      <th>5</th>\n",
       "      <td>jamás has vendido un auto</td>\n",
       "      <td>have you ever sold a car</td>\n",
       "      <td>ten old will as</td>\n",
       "    </tr>\n",
       "    <tr>\n",
       "      <th>6</th>\n",
       "      <td>cuántos hijos tienes</td>\n",
       "      <td>how many kids do you have</td>\n",
       "      <td>well to   you</td>\n",
       "    </tr>\n",
       "    <tr>\n",
       "      <th>7</th>\n",
       "      <td>no te dejaré hacerlo</td>\n",
       "      <td>i will not let you do it</td>\n",
       "      <td>dont  it again</td>\n",
       "    </tr>\n",
       "    <tr>\n",
       "      <th>8</th>\n",
       "      <td>no es hermoso</td>\n",
       "      <td>isnt it beautiful</td>\n",
       "      <td>its not natural</td>\n",
       "    </tr>\n",
       "    <tr>\n",
       "      <th>9</th>\n",
       "      <td>mi loro murió ayer</td>\n",
       "      <td>my parrot died yesterday</td>\n",
       "      <td>they gave to a to</td>\n",
       "    </tr>\n",
       "    <tr>\n",
       "      <th>10</th>\n",
       "      <td>comí una manzana</td>\n",
       "      <td>i ate an apple</td>\n",
       "      <td>hold your</td>\n",
       "    </tr>\n",
       "    <tr>\n",
       "      <th>11</th>\n",
       "      <td>tom está contento</td>\n",
       "      <td>toms glad</td>\n",
       "      <td>tom is a</td>\n",
       "    </tr>\n",
       "    <tr>\n",
       "      <th>12</th>\n",
       "      <td>cubre mi espalda</td>\n",
       "      <td>watch my back</td>\n",
       "      <td>get us with me</td>\n",
       "    </tr>\n",
       "    <tr>\n",
       "      <th>13</th>\n",
       "      <td>tom está escondido</td>\n",
       "      <td>tom is hiding</td>\n",
       "      <td>tom is a</td>\n",
       "    </tr>\n",
       "    <tr>\n",
       "      <th>14</th>\n",
       "      <td>póngalo allí</td>\n",
       "      <td>put it over there</td>\n",
       "      <td>please it</td>\n",
       "    </tr>\n",
       "  </tbody>\n",
       "</table>\n",
       "</div>"
      ],
      "text/plain": [
       "                            ES                     actual  \\\n",
       "0     ellos son muy optimistas     they are very cheerful   \n",
       "1                conozco a tom                 i know tom   \n",
       "2               puedes negarte             you may refuse   \n",
       "3               eso es privado              thats private   \n",
       "4   tom saltó desde su asiento   tom leaped from his seat   \n",
       "5    jamás has vendido un auto   have you ever sold a car   \n",
       "6         cuántos hijos tienes  how many kids do you have   \n",
       "7         no te dejaré hacerlo   i will not let you do it   \n",
       "8                no es hermoso          isnt it beautiful   \n",
       "9           mi loro murió ayer   my parrot died yesterday   \n",
       "10            comí una manzana             i ate an apple   \n",
       "11           tom está contento                  toms glad   \n",
       "12            cubre mi espalda              watch my back   \n",
       "13          tom está escondido              tom is hiding   \n",
       "14                póngalo allí          put it over there   \n",
       "\n",
       "                   predicted  \n",
       "0   please about for you      \n",
       "1             help  tom       \n",
       "2           just look a       \n",
       "3               its is        \n",
       "4    tom should me to you     \n",
       "5        ten old will as      \n",
       "6           well to   you     \n",
       "7         dont  it again      \n",
       "8       its not natural       \n",
       "9       they gave to a to     \n",
       "10           hold your        \n",
       "11             tom is a       \n",
       "12        get us with me      \n",
       "13             tom is a       \n",
       "14           please it        "
      ]
     },
     "execution_count": 33,
     "metadata": {},
     "output_type": "execute_result"
    }
   ],
   "source": [
    "pred_df.head(15)"
   ]
  },
  {
   "cell_type": "code",
   "execution_count": 34,
   "metadata": {},
   "outputs": [
    {
     "data": {
      "text/html": [
       "<div>\n",
       "<style scoped>\n",
       "    .dataframe tbody tr th:only-of-type {\n",
       "        vertical-align: middle;\n",
       "    }\n",
       "\n",
       "    .dataframe tbody tr th {\n",
       "        vertical-align: top;\n",
       "    }\n",
       "\n",
       "    .dataframe thead th {\n",
       "        text-align: right;\n",
       "    }\n",
       "</style>\n",
       "<table border=\"1\" class=\"dataframe\">\n",
       "  <thead>\n",
       "    <tr style=\"text-align: right;\">\n",
       "      <th></th>\n",
       "      <th>ES</th>\n",
       "      <th>actual</th>\n",
       "      <th>predicted</th>\n",
       "    </tr>\n",
       "  </thead>\n",
       "  <tbody>\n",
       "    <tr>\n",
       "      <th>9985</th>\n",
       "      <td>tom y mary saben</td>\n",
       "      <td>do tom and mary know</td>\n",
       "      <td>where i be</td>\n",
       "    </tr>\n",
       "    <tr>\n",
       "      <th>9986</th>\n",
       "      <td>tom puede ser burdo</td>\n",
       "      <td>tom can be clumsy</td>\n",
       "      <td>tom thinks lying</td>\n",
       "    </tr>\n",
       "    <tr>\n",
       "      <th>9987</th>\n",
       "      <td>querés probarlo</td>\n",
       "      <td>do you want to try it</td>\n",
       "      <td>i hate my</td>\n",
       "    </tr>\n",
       "    <tr>\n",
       "      <th>9988</th>\n",
       "      <td>sabes quién era</td>\n",
       "      <td>do you know who he was</td>\n",
       "      <td>tom was at</td>\n",
       "    </tr>\n",
       "    <tr>\n",
       "      <th>9989</th>\n",
       "      <td>también es una belleza</td>\n",
       "      <td>shes also a beauty</td>\n",
       "      <td>your is  dirty</td>\n",
       "    </tr>\n",
       "    <tr>\n",
       "      <th>9990</th>\n",
       "      <td>quiero a su hija</td>\n",
       "      <td>i love your daughter</td>\n",
       "      <td>i want something change</td>\n",
       "    </tr>\n",
       "    <tr>\n",
       "      <th>9991</th>\n",
       "      <td>él da clases de inglés</td>\n",
       "      <td>he teaches english</td>\n",
       "      <td>she is having for</td>\n",
       "    </tr>\n",
       "    <tr>\n",
       "      <th>9992</th>\n",
       "      <td>me quedé dormido</td>\n",
       "      <td>i overslept</td>\n",
       "      <td>he gave me a job</td>\n",
       "    </tr>\n",
       "    <tr>\n",
       "      <th>9993</th>\n",
       "      <td>él es pobre como pocos</td>\n",
       "      <td>he is as poor as can be</td>\n",
       "      <td>he is the  tv</td>\n",
       "    </tr>\n",
       "    <tr>\n",
       "      <th>9994</th>\n",
       "      <td>dónde está mi camisa</td>\n",
       "      <td>wheres my shirt</td>\n",
       "      <td>this is tonight</td>\n",
       "    </tr>\n",
       "    <tr>\n",
       "      <th>9995</th>\n",
       "      <td>todo está bien aquí</td>\n",
       "      <td>is everything ok here</td>\n",
       "      <td>were are rich</td>\n",
       "    </tr>\n",
       "    <tr>\n",
       "      <th>9996</th>\n",
       "      <td>me cansé de jugar esto</td>\n",
       "      <td>im sick of this game</td>\n",
       "      <td>i love you very well</td>\n",
       "    </tr>\n",
       "    <tr>\n",
       "      <th>9997</th>\n",
       "      <td>deshágase del arma</td>\n",
       "      <td>get rid of the gun</td>\n",
       "      <td>im on key</td>\n",
       "    </tr>\n",
       "    <tr>\n",
       "      <th>9998</th>\n",
       "      <td>viste esta película</td>\n",
       "      <td>did you watch this movie</td>\n",
       "      <td>i done did i do</td>\n",
       "    </tr>\n",
       "    <tr>\n",
       "      <th>9999</th>\n",
       "      <td>no tengo malicia hacia él</td>\n",
       "      <td>i bear him no malice</td>\n",
       "      <td>tom is a very tall</td>\n",
       "    </tr>\n",
       "  </tbody>\n",
       "</table>\n",
       "</div>"
      ],
      "text/plain": [
       "                             ES                    actual  \\\n",
       "9985           tom y mary saben      do tom and mary know   \n",
       "9986        tom puede ser burdo         tom can be clumsy   \n",
       "9987            querés probarlo     do you want to try it   \n",
       "9988            sabes quién era    do you know who he was   \n",
       "9989     también es una belleza        shes also a beauty   \n",
       "9990           quiero a su hija      i love your daughter   \n",
       "9991     él da clases de inglés        he teaches english   \n",
       "9992           me quedé dormido               i overslept   \n",
       "9993     él es pobre como pocos   he is as poor as can be   \n",
       "9994       dónde está mi camisa           wheres my shirt   \n",
       "9995        todo está bien aquí     is everything ok here   \n",
       "9996     me cansé de jugar esto      im sick of this game   \n",
       "9997         deshágase del arma        get rid of the gun   \n",
       "9998        viste esta película  did you watch this movie   \n",
       "9999  no tengo malicia hacia él      i bear him no malice   \n",
       "\n",
       "                        predicted  \n",
       "9985              where i be       \n",
       "9986        tom thinks lying       \n",
       "9987               i hate my       \n",
       "9988              tom was at       \n",
       "9989           your is  dirty      \n",
       "9990  i want something change      \n",
       "9991        she is having for      \n",
       "9992          he gave me a job     \n",
       "9993             he is the  tv     \n",
       "9994         this is tonight       \n",
       "9995           were are rich       \n",
       "9996      i love you very well     \n",
       "9997               im on key       \n",
       "9998           i done did i do     \n",
       "9999        tom is a very tall     "
      ]
     },
     "execution_count": 34,
     "metadata": {},
     "output_type": "execute_result"
    }
   ],
   "source": [
    "pred_df.tail(15)"
   ]
  },
  {
   "cell_type": "code",
   "execution_count": 35,
   "metadata": {},
   "outputs": [
    {
     "data": {
      "text/html": [
       "<div>\n",
       "<style scoped>\n",
       "    .dataframe tbody tr th:only-of-type {\n",
       "        vertical-align: middle;\n",
       "    }\n",
       "\n",
       "    .dataframe tbody tr th {\n",
       "        vertical-align: top;\n",
       "    }\n",
       "\n",
       "    .dataframe thead th {\n",
       "        text-align: right;\n",
       "    }\n",
       "</style>\n",
       "<table border=\"1\" class=\"dataframe\">\n",
       "  <thead>\n",
       "    <tr style=\"text-align: right;\">\n",
       "      <th></th>\n",
       "      <th>ES</th>\n",
       "      <th>actual</th>\n",
       "      <th>predicted</th>\n",
       "    </tr>\n",
       "  </thead>\n",
       "  <tbody>\n",
       "    <tr>\n",
       "      <th>7436</th>\n",
       "      <td>no soy la hermana de tom</td>\n",
       "      <td>im not toms sister</td>\n",
       "      <td>im not your tom</td>\n",
       "    </tr>\n",
       "    <tr>\n",
       "      <th>3798</th>\n",
       "      <td>no debes salir hoy</td>\n",
       "      <td>you must not go out today</td>\n",
       "      <td>dont take your choice</td>\n",
       "    </tr>\n",
       "    <tr>\n",
       "      <th>6781</th>\n",
       "      <td>eres realmente hermosa</td>\n",
       "      <td>you sure are pretty</td>\n",
       "      <td>i know how eat</td>\n",
       "    </tr>\n",
       "    <tr>\n",
       "      <th>5776</th>\n",
       "      <td>prueba esta salsa</td>\n",
       "      <td>try this sauce</td>\n",
       "      <td>that</td>\n",
       "    </tr>\n",
       "    <tr>\n",
       "      <th>7819</th>\n",
       "      <td>tom se movió</td>\n",
       "      <td>tom moved</td>\n",
       "      <td>tom became a</td>\n",
       "    </tr>\n",
       "    <tr>\n",
       "      <th>9864</th>\n",
       "      <td>ella se vestía como un niño</td>\n",
       "      <td>she dressed like a boy</td>\n",
       "      <td>im am of  this</td>\n",
       "    </tr>\n",
       "    <tr>\n",
       "      <th>5702</th>\n",
       "      <td>tengo que ir al banco</td>\n",
       "      <td>i have to go to the bank</td>\n",
       "      <td>tom thinks mary</td>\n",
       "    </tr>\n",
       "    <tr>\n",
       "      <th>6264</th>\n",
       "      <td>ahora estoy jugando al fútbol</td>\n",
       "      <td>im playing football now</td>\n",
       "      <td>tom was in work</td>\n",
       "    </tr>\n",
       "    <tr>\n",
       "      <th>865</th>\n",
       "      <td>ella no vino a fin de cuentas</td>\n",
       "      <td>she didnt come after all</td>\n",
       "      <td>im not a at a</td>\n",
       "    </tr>\n",
       "    <tr>\n",
       "      <th>9958</th>\n",
       "      <td>tomás todavía hace vida de soltero</td>\n",
       "      <td>tom is still a bachelor</td>\n",
       "      <td>i can win this</td>\n",
       "    </tr>\n",
       "    <tr>\n",
       "      <th>4682</th>\n",
       "      <td>ella desvió la vista</td>\n",
       "      <td>she turned her eyes away</td>\n",
       "      <td>im not to</td>\n",
       "    </tr>\n",
       "    <tr>\n",
       "      <th>3450</th>\n",
       "      <td>él es un buen doctor</td>\n",
       "      <td>he is a good doctor</td>\n",
       "      <td>he is a to</td>\n",
       "    </tr>\n",
       "    <tr>\n",
       "      <th>2699</th>\n",
       "      <td>este libro es una novela policíaca</td>\n",
       "      <td>this book is a whodunit</td>\n",
       "      <td>this is  my of</td>\n",
       "    </tr>\n",
       "    <tr>\n",
       "      <th>9365</th>\n",
       "      <td>me puse enfermo</td>\n",
       "      <td>i got sick</td>\n",
       "      <td>we back</td>\n",
       "    </tr>\n",
       "    <tr>\n",
       "      <th>4513</th>\n",
       "      <td>ellos son bienintencionados</td>\n",
       "      <td>they mean well</td>\n",
       "      <td>please they</td>\n",
       "    </tr>\n",
       "  </tbody>\n",
       "</table>\n",
       "</div>"
      ],
      "text/plain": [
       "                                      ES                     actual  \\\n",
       "7436            no soy la hermana de tom         im not toms sister   \n",
       "3798                  no debes salir hoy  you must not go out today   \n",
       "6781              eres realmente hermosa        you sure are pretty   \n",
       "5776                   prueba esta salsa             try this sauce   \n",
       "7819                        tom se movió                  tom moved   \n",
       "9864         ella se vestía como un niño     she dressed like a boy   \n",
       "5702               tengo que ir al banco   i have to go to the bank   \n",
       "6264       ahora estoy jugando al fútbol    im playing football now   \n",
       "865        ella no vino a fin de cuentas   she didnt come after all   \n",
       "9958  tomás todavía hace vida de soltero    tom is still a bachelor   \n",
       "4682                ella desvió la vista   she turned her eyes away   \n",
       "3450                él es un buen doctor        he is a good doctor   \n",
       "2699  este libro es una novela policíaca    this book is a whodunit   \n",
       "9365                     me puse enfermo                 i got sick   \n",
       "4513         ellos son bienintencionados             they mean well   \n",
       "\n",
       "                      predicted  \n",
       "7436        im not your tom      \n",
       "3798  dont take your choice      \n",
       "6781         i know how eat      \n",
       "5776                that         \n",
       "7819          tom became a       \n",
       "9864          im am of  this     \n",
       "5702       tom thinks mary       \n",
       "6264        tom was in work      \n",
       "865            im not a at a     \n",
       "9958         i can win this      \n",
       "4682             im not to       \n",
       "3450             he is a to      \n",
       "2699          this is  my of     \n",
       "9365              we back        \n",
       "4513          please they        "
      ]
     },
     "execution_count": 35,
     "metadata": {},
     "output_type": "execute_result"
    }
   ],
   "source": [
    "pred_df.sample(15)"
   ]
  },
  {
   "cell_type": "code",
   "execution_count": 36,
   "metadata": {},
   "outputs": [
    {
     "name": "stdout",
     "output_type": "stream",
     "text": [
      "[[ 11  42  30 505   0   0   0   0]\n",
      " [ 68 213   0   0   0   0   0   0]\n",
      " [188   4  51   0   0   0   0   0]]\n",
      "3\n",
      "[[ 11  42  30 505   0   0   0   0]\n",
      " [ 68 213   0   0   0   0   0   0]\n",
      " [188   4  51   0   0   0   0   0]]\n",
      "===========\n",
      "[[   8   15   38   38    0    0    0    0]\n",
      " [  44    5  220    0    0    0    0    0]\n",
      " [ 636   21 2586    0    0    0    0    0]]\n",
      "he was here     \n",
      "youre a mine     \n",
      "save your dice     \n"
     ]
    }
   ],
   "source": [
    "frases=[\"él estaba muy borracho\",\"tienes razón\",\"ve a casa\",]\n",
    "fe=encode_sequences(es_tokenizer, es_length, frases)\n",
    "print(fe)\n",
    "print(\"===========\")\n",
    "pr=model.predict_classes(fe)\n",
    "print(pr)\n",
    "for i in pr:\n",
    "    temp = []\n",
    "    for j in range(len(i)):\n",
    "        t = get_word(i[j], eng_tokenizer)\n",
    "        if j > 0:\n",
    "            if (t == get_word(i[j-1], eng_tokenizer)) or (t == None):\n",
    "                temp.append('')\n",
    "            else:\n",
    "                temp.append(t)\n",
    "             \n",
    "        else:\n",
    "            if(t == None):\n",
    "                temp.append('')\n",
    "            else:\n",
    "                temp.append(t)           \n",
    "        \n",
    "    print(' '.join(temp))"
   ]
  },
  {
   "cell_type": "code",
   "execution_count": null,
   "metadata": {},
   "outputs": [],
   "source": [
    "## observaciones:\n",
    "'''se han probado dos modelos, el primero, model.h1.4-5-20, mas simple, entrenado con menos palabras y con poco overfitting, que funciona razonablemente bien, es el que se muestra en los resultados anteriores.\n",
    "\n",
    "el segundo, model.h2.5-5-20, se ha entrenado con el doble de palabras y 50 epochs, según el grafico tiene bastante overfitting. Pero cuando observamos los resultados, se puede ver que aunque en muchas situaciones las respuestas no coincida, no se puede decir que sean incorrectas:\n",
    "\n",
    "\n",
    "    español                     Inglés                          Predicción\n",
    "podéis usar ese teléfono\tyou can use that phone         \tyou can use this phone\n",
    "son los mejores\t            you are the best            \tare the best\n",
    "tengo que abrir la ventana\tdo i have to open the window\ti need to open the window\n",
    "'''"
   ]
  }
 ],
 "metadata": {
  "kernelspec": {
   "display_name": "Python 3",
   "language": "python",
   "name": "python3"
  },
  "language_info": {
   "codemirror_mode": {
    "name": "ipython",
    "version": 3
   },
   "file_extension": ".py",
   "mimetype": "text/x-python",
   "name": "python",
   "nbconvert_exporter": "python",
   "pygments_lexer": "ipython3",
   "version": "3.7.6"
  }
 },
 "nbformat": 4,
 "nbformat_minor": 4
}
